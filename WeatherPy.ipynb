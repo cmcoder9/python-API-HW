{
 "cells": [
  {
   "cell_type": "markdown",
   "metadata": {},
   "source": [
    "# WeatherPy\n",
    "----\n",
    "\n",
    "#### Note\n",
    "* Instructions have been included for each segment. You do not have to follow them exactly, but they are included to help you think through the steps."
   ]
  },
  {
   "cell_type": "code",
   "execution_count": 1,
   "metadata": {
    "scrolled": true
   },
   "outputs": [],
   "source": [
    "# Dependencies and Setup\n",
    "import matplotlib.pyplot as plt\n",
    "import pandas as pd\n",
    "import numpy as np\n",
    "import requests\n",
    "import time\n",
    "from scipy.stats import linregress\n",
    "\n",
    "# Import API key\n",
    "from api_keys import weather_api_key\n",
    "\n",
    "# Incorporated citipy to determine city based on latitude and longitude\n",
    "from citipy import citipy\n",
    "\n",
    "# Output File (CSV)\n",
    "output_data_file = \"output_data/cities.csv\"\n",
    "\n",
    "# Range of latitudes and longitudes\n",
    "lat_range = (-90, 90)\n",
    "lng_range = (-180, 180)"
   ]
  },
  {
   "cell_type": "markdown",
   "metadata": {},
   "source": [
    "## Generate Cities List"
   ]
  },
  {
   "cell_type": "code",
   "execution_count": 2,
   "metadata": {},
   "outputs": [
    {
     "data": {
      "text/plain": [
       "602"
      ]
     },
     "execution_count": 2,
     "metadata": {},
     "output_type": "execute_result"
    }
   ],
   "source": [
    "# List for holding lat_lngs and cities\n",
    "lat_lngs = []\n",
    "cities = []\n",
    "\n",
    "# Create a set of random lat and lng combinations\n",
    "lats = np.random.uniform(lat_range[0], lat_range[1], size=1500)\n",
    "lngs = np.random.uniform(lng_range[0], lng_range[1], size=1500)\n",
    "lat_lngs = zip(lats, lngs)\n",
    "\n",
    "# Identify nearest city for each lat, lng combination\n",
    "for lat_lng in lat_lngs:\n",
    "    city = citipy.nearest_city(lat_lng[0], lat_lng[1]).city_name\n",
    "    \n",
    "    # If the city is unique, then add it to a our cities list\n",
    "    if city not in cities:\n",
    "        cities.append(city)\n",
    "\n",
    "# Print the city count to confirm sufficient count\n",
    "len(cities)"
   ]
  },
  {
   "cell_type": "markdown",
   "metadata": {},
   "source": [
    "### Perform API Calls\n",
    "* Perform a weather check on each city using a series of successive API calls.\n",
    "* Include a print log of each city as it'sbeing processed (with the city number and city name).\n"
   ]
  },
  {
   "cell_type": "code",
   "execution_count": 3,
   "metadata": {
    "scrolled": true
   },
   "outputs": [
    {
     "name": "stdout",
     "output_type": "stream",
     "text": [
      "Processing Record 1 | alcaniz\n",
      "Processing Record 2 | gigmoto\n",
      "Processing Record 3 | illoqqortoormiut\n",
      "Error for illoqqortoormiut\n",
      "Processing Record 4 | ordzhonikidze\n",
      "Processing Record 5 | mataura\n",
      "Processing Record 6 | punta arenas\n",
      "Processing Record 7 | ushuaia\n",
      "Processing Record 8 | saint-philippe\n",
      "Processing Record 9 | albany\n",
      "Processing Record 10 | bingol\n",
      "Processing Record 11 | hobart\n",
      "Processing Record 12 | priargunsk\n",
      "Processing Record 13 | yurginskoye\n",
      "Processing Record 14 | pechora\n",
      "Processing Record 15 | tessalit\n",
      "Processing Record 16 | saint george\n",
      "Processing Record 17 | pacific grove\n",
      "Processing Record 18 | saleaula\n",
      "Error for saleaula\n",
      "Processing Record 19 | bathsheba\n",
      "Processing Record 20 | dingle\n",
      "Processing Record 21 | dikson\n",
      "Processing Record 22 | cidreira\n",
      "Processing Record 23 | thompson\n",
      "Processing Record 24 | atuona\n",
      "Processing Record 25 | menongue\n",
      "Processing Record 26 | reconquista\n",
      "Processing Record 27 | new norfolk\n",
      "Processing Record 28 | cape town\n",
      "Processing Record 29 | torbay\n",
      "Processing Record 30 | bethel\n",
      "Processing Record 31 | busselton\n",
      "Processing Record 32 | tawnat\n",
      "Error for tawnat\n",
      "Processing Record 33 | saskylakh\n",
      "Processing Record 34 | yellowknife\n",
      "Processing Record 35 | belushya guba\n",
      "Error for belushya guba\n",
      "Processing Record 36 | fortuna\n",
      "Processing Record 37 | cayenne\n",
      "Processing Record 38 | marcona\n",
      "Error for marcona\n",
      "Processing Record 39 | clyde river\n",
      "Processing Record 40 | mwinilunga\n",
      "Processing Record 41 | rikitea\n",
      "Processing Record 42 | gimli\n",
      "Processing Record 43 | hami\n",
      "Processing Record 44 | posse\n",
      "Processing Record 45 | jamestown\n",
      "Processing Record 46 | beidao\n",
      "Processing Record 47 | amapa\n",
      "Processing Record 48 | sao filipe\n",
      "Processing Record 49 | iqaluit\n",
      "Processing Record 50 | katsuura\n",
      "Processing Record 51 | darab\n",
      "Processing Record 52 | kapaa\n",
      "Processing Record 53 | hithadhoo\n",
      "Processing Record 54 | gangapur\n",
      "Processing Record 55 | norman wells\n",
      "Processing Record 56 | yumen\n",
      "Processing Record 57 | hilo\n",
      "Processing Record 58 | coihaique\n",
      "Processing Record 59 | umzimvubu\n",
      "Error for umzimvubu\n",
      "Processing Record 60 | labrea\n",
      "Processing Record 61 | saint-francois\n",
      "Processing Record 62 | russell\n",
      "Processing Record 63 | cockburn town\n",
      "Processing Record 64 | forest\n",
      "Processing Record 65 | salalah\n",
      "Processing Record 66 | tuktoyaktuk\n",
      "Processing Record 67 | chara\n",
      "Processing Record 68 | providencia\n",
      "Processing Record 69 | avarua\n",
      "Processing Record 70 | san patricio\n",
      "Processing Record 71 | bara\n",
      "Processing Record 72 | margate\n",
      "Processing Record 73 | keti bandar\n",
      "Processing Record 74 | georgetown\n",
      "Processing Record 75 | alice springs\n",
      "Processing Record 76 | kavieng\n",
      "Processing Record 77 | sofiysk\n",
      "Error for sofiysk\n",
      "Processing Record 78 | kruisfontein\n",
      "Processing Record 79 | brignoles\n",
      "Processing Record 80 | barrow\n",
      "Processing Record 81 | saint-leu\n",
      "Processing Record 82 | hovd\n",
      "Processing Record 83 | provideniya\n",
      "Processing Record 84 | freeport\n",
      "Processing Record 85 | mingguang\n",
      "Processing Record 86 | haines junction\n",
      "Processing Record 87 | eureka\n",
      "Processing Record 88 | cascais\n",
      "Processing Record 89 | saint-augustin\n",
      "Processing Record 90 | canico\n",
      "Processing Record 91 | seagoville\n",
      "Processing Record 92 | mabaruma\n",
      "Processing Record 93 | graham\n",
      "Processing Record 94 | talnakh\n",
      "Processing Record 95 | neuquen\n",
      "Processing Record 96 | grand centre\n",
      "Error for grand centre\n",
      "Processing Record 97 | barentsburg\n",
      "Error for barentsburg\n",
      "Processing Record 98 | osa\n",
      "Processing Record 99 | tasiilaq\n",
      "Processing Record 100 | bluff\n",
      "Processing Record 101 | pirawa\n",
      "Processing Record 102 | vaini\n",
      "Processing Record 103 | kodiak\n",
      "Processing Record 104 | ilhabela\n",
      "Processing Record 105 | mangrol\n",
      "Processing Record 106 | coquimbo\n",
      "Processing Record 107 | andenes\n",
      "Processing Record 108 | kannangad\n",
      "Processing Record 109 | vaitupu\n",
      "Error for vaitupu\n",
      "Processing Record 110 | fairlie\n",
      "Processing Record 111 | qandahar\n",
      "Error for qandahar\n",
      "Processing Record 112 | cuamba\n",
      "Processing Record 113 | ixtapa\n",
      "Processing Record 114 | grand baie\n",
      "Processing Record 115 | taolanaro\n",
      "Error for taolanaro\n",
      "Processing Record 116 | samarai\n",
      "Processing Record 117 | kaitangata\n",
      "Processing Record 118 | souillac\n",
      "Processing Record 119 | deniliquin\n",
      "Processing Record 120 | acajutla\n",
      "Processing Record 121 | nizhneyansk\n",
      "Error for nizhneyansk\n",
      "Processing Record 122 | san cristobal\n",
      "Processing Record 123 | lichinga\n",
      "Processing Record 124 | kitgum\n",
      "Processing Record 125 | hobyo\n",
      "Processing Record 126 | airai\n",
      "Processing Record 127 | mudyuga\n",
      "Error for mudyuga\n",
      "Processing Record 128 | formoso do araguaia\n",
      "Error for formoso do araguaia\n",
      "Processing Record 129 | havoysund\n",
      "Processing Record 130 | kailua\n",
      "Processing Record 131 | nambucca heads\n",
      "Processing Record 132 | naze\n",
      "Processing Record 133 | carnarvon\n",
      "Processing Record 134 | hwange\n",
      "Processing Record 135 | bredasdorp\n",
      "Processing Record 136 | pevek\n",
      "Processing Record 137 | port lincoln\n",
      "Processing Record 138 | aklavik\n",
      "Processing Record 139 | holme\n",
      "Processing Record 140 | palmer\n",
      "Processing Record 141 | sakhnovshchyna\n",
      "Processing Record 142 | sliven\n",
      "Processing Record 143 | pochutla\n",
      "Processing Record 144 | port alfred\n",
      "Processing Record 145 | satitoa\n",
      "Error for satitoa\n",
      "Processing Record 146 | jiddah\n",
      "Error for jiddah\n",
      "Processing Record 147 | abha\n",
      "Processing Record 148 | westport\n",
      "Processing Record 149 | portadown\n",
      "Processing Record 150 | yelandur\n",
      "Processing Record 151 | victoria\n",
      "Processing Record 152 | meulaboh\n",
      "Processing Record 153 | sentyabrskiy\n",
      "Error for sentyabrskiy\n",
      "Processing Record 154 | vila velha\n",
      "Processing Record 155 | hamilton\n",
      "Processing Record 156 | tomatlan\n",
      "Processing Record 157 | broken hill\n",
      "Processing Record 158 | hasaki\n",
      "Processing Record 159 | sorland\n",
      "Processing Record 160 | sao joao da barra\n",
      "Processing Record 161 | geraldton\n",
      "Processing Record 162 | mys shmidta\n",
      "Error for mys shmidta\n",
      "Processing Record 163 | terney\n",
      "Processing Record 164 | hermanus\n",
      "Processing Record 165 | fort saint john\n",
      "Error for fort saint john\n",
      "Processing Record 166 | butaritari\n",
      "Processing Record 167 | attawapiskat\n",
      "Error for attawapiskat\n",
      "Processing Record 168 | anadyr\n",
      "Processing Record 169 | walvis bay\n",
      "Processing Record 170 | edd\n",
      "Processing Record 171 | kasongo-lunda\n",
      "Processing Record 172 | goderich\n",
      "Processing Record 173 | tamale\n",
      "Processing Record 174 | ludvika\n",
      "Processing Record 175 | kupino\n",
      "Processing Record 176 | warrnambool\n",
      "Processing Record 177 | boca do acre\n",
      "Processing Record 178 | roald\n",
      "Processing Record 179 | domoni\n",
      "Processing Record 180 | gizo\n",
      "Processing Record 181 | severodvinsk\n",
      "Processing Record 182 | esso\n",
      "Processing Record 183 | puerto ayacucho\n",
      "Processing Record 184 | abu dhabi\n",
      "Processing Record 185 | obo\n",
      "Processing Record 186 | oromocto\n",
      "Processing Record 187 | hambantota\n",
      "Processing Record 188 | east london\n",
      "Processing Record 189 | port-gentil\n",
      "Processing Record 190 | namatanai\n",
      "Processing Record 191 | tsihombe\n",
      "Error for tsihombe\n",
      "Processing Record 192 | cabimas\n",
      "Processing Record 193 | pilar\n",
      "Processing Record 194 | upernavik\n",
      "Processing Record 195 | maltahohe\n",
      "Processing Record 196 | lebu\n",
      "Processing Record 197 | okhotsk\n",
      "Processing Record 198 | kargil\n",
      "Processing Record 199 | honningsvag\n",
      "Processing Record 200 | teguldet\n",
      "Processing Record 201 | caravelas\n",
      "Processing Record 202 | nizhniy kuranakh\n",
      "Processing Record 203 | puerto madryn\n",
      "Processing Record 204 | the valley\n",
      "Processing Record 205 | cassia\n",
      "Processing Record 206 | kon tum\n",
      "Processing Record 207 | mahebourg\n",
      "Processing Record 208 | vao\n",
      "Processing Record 209 | nushki\n",
      "Processing Record 210 | shishou\n",
      "Processing Record 211 | castro\n",
      "Processing Record 212 | kupang\n",
      "Processing Record 213 | lagoa\n",
      "Processing Record 214 | orodara\n",
      "Processing Record 215 | suez\n",
      "Processing Record 216 | san pedro\n",
      "Processing Record 217 | labuhan\n",
      "Processing Record 218 | port elizabeth\n",
      "Processing Record 219 | alta floresta\n",
      "Processing Record 220 | tiksi\n",
      "Processing Record 221 | saint-pierre\n",
      "Processing Record 222 | ilulissat\n",
      "Processing Record 223 | cherskiy\n",
      "Processing Record 224 | ponta do sol\n",
      "Processing Record 225 | aasiaat\n",
      "Processing Record 226 | coahuayana\n",
      "Processing Record 227 | verkhnevilyuysk\n",
      "Processing Record 228 | asau\n",
      "Processing Record 229 | poum\n",
      "Processing Record 230 | angra\n",
      "Error for angra\n",
      "Processing Record 231 | ribeira grande\n",
      "Processing Record 232 | itarema\n",
      "Processing Record 233 | dera bugti\n",
      "Processing Record 234 | mar del plata\n",
      "Processing Record 235 | otradnoye\n"
     ]
    },
    {
     "name": "stdout",
     "output_type": "stream",
     "text": [
      "Processing Record 236 | yuzhno-yeniseyskiy\n",
      "Error for yuzhno-yeniseyskiy\n",
      "Processing Record 237 | burica\n",
      "Error for burica\n",
      "Processing Record 238 | klaksvik\n",
      "Processing Record 239 | guerrero negro\n",
      "Processing Record 240 | tigil\n",
      "Processing Record 241 | micheweni\n",
      "Processing Record 242 | fairbanks\n",
      "Processing Record 243 | arrifes\n",
      "Processing Record 244 | ilek\n",
      "Processing Record 245 | touros\n",
      "Processing Record 246 | qaanaaq\n",
      "Processing Record 247 | amderma\n",
      "Error for amderma\n",
      "Processing Record 248 | north bend\n",
      "Processing Record 249 | sur\n",
      "Processing Record 250 | port macquarie\n",
      "Processing Record 251 | grand river south east\n",
      "Error for grand river south east\n",
      "Processing Record 252 | mackay\n",
      "Processing Record 253 | havelock\n",
      "Processing Record 254 | ahipara\n",
      "Processing Record 255 | bonavista\n",
      "Processing Record 256 | karaton\n",
      "Processing Record 257 | la ronge\n",
      "Processing Record 258 | mehamn\n",
      "Processing Record 259 | aykhal\n",
      "Processing Record 260 | portsmouth\n",
      "Processing Record 261 | savelugu\n",
      "Processing Record 262 | puerto ayora\n",
      "Processing Record 263 | byron bay\n",
      "Processing Record 264 | kasama\n",
      "Processing Record 265 | waikuku\n",
      "Processing Record 266 | fort nelson\n",
      "Processing Record 267 | kathmandu\n",
      "Processing Record 268 | ostrovnoy\n",
      "Processing Record 269 | tirumullaivasal\n",
      "Processing Record 270 | arraial do cabo\n",
      "Processing Record 271 | iringa\n",
      "Processing Record 272 | chuy\n",
      "Processing Record 273 | leningradskiy\n",
      "Processing Record 274 | rauma\n",
      "Processing Record 275 | beringovskiy\n",
      "Processing Record 276 | woodstock\n",
      "Processing Record 277 | faanui\n",
      "Processing Record 278 | nikolskoye\n",
      "Processing Record 279 | buala\n",
      "Processing Record 280 | nanakuli\n",
      "Processing Record 281 | la rioja\n",
      "Processing Record 282 | dejen\n",
      "Processing Record 283 | altamont\n",
      "Processing Record 284 | yambio\n",
      "Processing Record 285 | muros\n",
      "Processing Record 286 | sidi ali\n",
      "Processing Record 287 | kamenka\n",
      "Processing Record 288 | cedar city\n",
      "Processing Record 289 | ponta delgada\n",
      "Processing Record 290 | bambous virieux\n",
      "Processing Record 291 | kindu\n",
      "Processing Record 292 | auki\n",
      "Processing Record 293 | tual\n",
      "Processing Record 294 | vostok\n",
      "Processing Record 295 | chokurdakh\n",
      "Processing Record 296 | bondo\n",
      "Processing Record 297 | the hammocks\n",
      "Processing Record 298 | opuwo\n",
      "Processing Record 299 | ryotsu\n",
      "Processing Record 300 | gavle\n",
      "Processing Record 301 | vanimo\n",
      "Processing Record 302 | pisco\n",
      "Processing Record 303 | pangnirtung\n",
      "Processing Record 304 | bereda\n",
      "Processing Record 305 | hohhot\n",
      "Processing Record 306 | perevolotskiy\n",
      "Processing Record 307 | rio grande\n",
      "Processing Record 308 | ayan\n",
      "Processing Record 309 | samusu\n",
      "Error for samusu\n",
      "Processing Record 310 | cabo san lucas\n",
      "Processing Record 311 | rocha\n",
      "Processing Record 312 | sambava\n",
      "Processing Record 313 | mount isa\n",
      "Processing Record 314 | stokmarknes\n",
      "Processing Record 315 | upata\n",
      "Processing Record 316 | mildura\n",
      "Processing Record 317 | kurayoshi\n",
      "Processing Record 318 | tiznit\n",
      "Processing Record 319 | mitchell\n",
      "Processing Record 320 | taoudenni\n",
      "Processing Record 321 | nanning\n",
      "Processing Record 322 | puerto del rosario\n",
      "Processing Record 323 | vilhena\n",
      "Processing Record 324 | bezenchuk\n",
      "Processing Record 325 | bhandara\n",
      "Processing Record 326 | chapais\n",
      "Processing Record 327 | talaja\n",
      "Processing Record 328 | aflu\n",
      "Error for aflu\n",
      "Processing Record 329 | narsaq\n",
      "Processing Record 330 | pangkalanbuun\n",
      "Processing Record 331 | belmonte\n",
      "Processing Record 332 | grass valley\n",
      "Processing Record 333 | callaway\n",
      "Processing Record 334 | bomet\n",
      "Processing Record 335 | tumannyy\n",
      "Error for tumannyy\n",
      "Processing Record 336 | sisophon\n",
      "Processing Record 337 | batagay-alyta\n",
      "Processing Record 338 | tsaratanana\n",
      "Processing Record 339 | palakollu\n",
      "Processing Record 340 | arrecife\n",
      "Processing Record 341 | bowen\n",
      "Processing Record 342 | dali\n",
      "Processing Record 343 | uberlandia\n",
      "Processing Record 344 | axim\n",
      "Processing Record 345 | vilyuysk\n",
      "Processing Record 346 | jijiga\n",
      "Processing Record 347 | tabiauea\n",
      "Error for tabiauea\n",
      "Processing Record 348 | isangel\n",
      "Processing Record 349 | wewak\n",
      "Processing Record 350 | elliot lake\n",
      "Processing Record 351 | grand gaube\n",
      "Processing Record 352 | matata\n",
      "Processing Record 353 | doctor pedro p. pena\n",
      "Error for doctor pedro p. pena\n",
      "Processing Record 354 | verkhoyansk\n",
      "Processing Record 355 | sri aman\n",
      "Processing Record 356 | homer\n",
      "Processing Record 357 | richards bay\n",
      "Processing Record 358 | praya\n",
      "Processing Record 359 | saryshagan\n",
      "Error for saryshagan\n",
      "Processing Record 360 | helong\n",
      "Processing Record 361 | sao jose da coroa grande\n",
      "Processing Record 362 | yerbogachen\n",
      "Processing Record 363 | calvia\n",
      "Processing Record 364 | paraiso\n",
      "Processing Record 365 | vila franca do campo\n",
      "Processing Record 366 | portland\n",
      "Processing Record 367 | phan thiet\n",
      "Processing Record 368 | fatsa\n",
      "Processing Record 369 | tuatapere\n",
      "Processing Record 370 | kahului\n",
      "Processing Record 371 | ecoporanga\n",
      "Processing Record 372 | manggar\n",
      "Processing Record 373 | camacha\n",
      "Processing Record 374 | esperance\n",
      "Processing Record 375 | avera\n",
      "Processing Record 376 | kuche\n",
      "Error for kuche\n",
      "Processing Record 377 | kloulklubed\n",
      "Processing Record 378 | lipin bor\n",
      "Processing Record 379 | omboue\n",
      "Processing Record 380 | mayo\n",
      "Processing Record 381 | khatanga\n",
      "Processing Record 382 | turayf\n",
      "Processing Record 383 | lumphat\n",
      "Processing Record 384 | beisfjord\n",
      "Processing Record 385 | te anau\n",
      "Processing Record 386 | odesskoye\n",
      "Processing Record 387 | luderitz\n",
      "Processing Record 388 | samalaeulu\n",
      "Error for samalaeulu\n",
      "Processing Record 389 | longyearbyen\n",
      "Processing Record 390 | severobaykalsk\n",
      "Processing Record 391 | agboville\n",
      "Processing Record 392 | shenjiamen\n",
      "Processing Record 393 | porto belo\n",
      "Processing Record 394 | meyungs\n",
      "Error for meyungs\n",
      "Processing Record 395 | colares\n",
      "Processing Record 396 | julio de castilhos\n",
      "Processing Record 397 | castle douglas\n",
      "Processing Record 398 | barsi\n",
      "Processing Record 399 | capinopolis\n",
      "Processing Record 400 | port blair\n",
      "Processing Record 401 | kangaatsiaq\n",
      "Processing Record 402 | zhangye\n",
      "Processing Record 403 | benguela\n",
      "Processing Record 404 | skalistyy\n",
      "Error for skalistyy\n",
      "Processing Record 405 | santa barbara\n",
      "Processing Record 406 | jeremie\n",
      "Processing Record 407 | rudbar\n",
      "Processing Record 408 | aripuana\n",
      "Processing Record 409 | vermillion\n",
      "Processing Record 410 | nome\n",
      "Processing Record 411 | daru\n",
      "Processing Record 412 | toliary\n",
      "Error for toliary\n",
      "Processing Record 413 | dibaya\n",
      "Error for dibaya\n",
      "Processing Record 414 | formosa do rio preto\n",
      "Processing Record 415 | severo-kurilsk\n",
      "Processing Record 416 | guarapari\n",
      "Processing Record 417 | sergeyevka\n",
      "Processing Record 418 | maihar\n",
      "Processing Record 419 | tartus\n",
      "Processing Record 420 | comodoro rivadavia\n",
      "Processing Record 421 | lompoc\n",
      "Processing Record 422 | ippy\n",
      "Processing Record 423 | leshukonskoye\n",
      "Processing Record 424 | coos bay\n",
      "Processing Record 425 | lethem\n",
      "Processing Record 426 | larsnes\n",
      "Processing Record 427 | lavrentiya\n",
      "Processing Record 428 | talara\n",
      "Processing Record 429 | miandrivazo\n",
      "Processing Record 430 | piacabucu\n",
      "Processing Record 431 | brigantine\n",
      "Processing Record 432 | hennebont\n",
      "Processing Record 433 | kassala\n",
      "Processing Record 434 | cozumel\n",
      "Processing Record 435 | dunedin\n",
      "Processing Record 436 | nishihara\n",
      "Processing Record 437 | banda aceh\n",
      "Processing Record 438 | arlit\n",
      "Processing Record 439 | lakes entrance\n",
      "Processing Record 440 | saint-georges\n",
      "Processing Record 441 | faro\n",
      "Processing Record 442 | dhidhdhoo\n",
      "Processing Record 443 | masaki\n",
      "Processing Record 444 | trelew\n",
      "Processing Record 445 | yulara\n",
      "Processing Record 446 | alofi\n",
      "Processing Record 447 | rio gallegos\n",
      "Processing Record 448 | harper\n",
      "Processing Record 449 | anloga\n",
      "Processing Record 450 | karachi\n",
      "Processing Record 451 | athabasca\n",
      "Processing Record 452 | mattru\n",
      "Processing Record 453 | lata\n",
      "Processing Record 454 | gambo\n",
      "Processing Record 455 | senneterre\n",
      "Processing Record 456 | fergus falls\n",
      "Processing Record 457 | tezu\n",
      "Processing Record 458 | meadow lake\n",
      "Processing Record 459 | thinadhoo\n",
      "Processing Record 460 | vestmannaeyjar\n",
      "Processing Record 461 | ossora\n",
      "Processing Record 462 | viesca\n",
      "Processing Record 463 | belyy yar\n",
      "Processing Record 464 | arak\n",
      "Processing Record 465 | qasigiannguit\n",
      "Processing Record 466 | tautira\n",
      "Processing Record 467 | lyaskelya\n",
      "Processing Record 468 | roma\n",
      "Processing Record 469 | oranjestad\n",
      "Processing Record 470 | zhuhai\n",
      "Processing Record 471 | mitsamiouli\n"
     ]
    },
    {
     "name": "stdout",
     "output_type": "stream",
     "text": [
      "Processing Record 472 | gamba\n",
      "Processing Record 473 | gurlan\n",
      "Processing Record 474 | yagodnoye\n",
      "Processing Record 475 | bam\n",
      "Processing Record 476 | ust-maya\n",
      "Processing Record 477 | manzil jamil\n",
      "Error for manzil jamil\n",
      "Processing Record 478 | sitka\n",
      "Processing Record 479 | tarko-sale\n",
      "Processing Record 480 | broome\n",
      "Processing Record 481 | lubango\n",
      "Processing Record 482 | oksfjord\n",
      "Processing Record 483 | sonoita\n",
      "Processing Record 484 | sukhothai\n",
      "Processing Record 485 | seydi\n",
      "Processing Record 486 | barreirinha\n",
      "Processing Record 487 | cranbrook\n",
      "Processing Record 488 | frederiksvaerk\n",
      "Processing Record 489 | soure\n",
      "Processing Record 490 | khonuu\n",
      "Error for khonuu\n",
      "Processing Record 491 | qax\n",
      "Processing Record 492 | bani\n",
      "Processing Record 493 | utrera\n",
      "Processing Record 494 | ozgon\n",
      "Error for ozgon\n",
      "Processing Record 495 | little current\n",
      "Processing Record 496 | huarmey\n",
      "Processing Record 497 | richard toll\n",
      "Error for richard toll\n",
      "Processing Record 498 | tateyama\n",
      "Processing Record 499 | manono\n",
      "Processing Record 500 | mount gambier\n",
      "Processing Record 501 | staryy nadym\n",
      "Processing Record 502 | sai buri\n",
      "Processing Record 503 | khandyga\n",
      "Processing Record 504 | bautar\n",
      "Processing Record 505 | kerteh\n",
      "Error for kerteh\n",
      "Processing Record 506 | yingkou\n",
      "Processing Record 507 | timra\n",
      "Processing Record 508 | ijaki\n",
      "Error for ijaki\n",
      "Processing Record 509 | gat\n",
      "Processing Record 510 | antalaha\n",
      "Processing Record 511 | oum hadjer\n",
      "Processing Record 512 | acarau\n",
      "Processing Record 513 | rungata\n",
      "Error for rungata\n",
      "Processing Record 514 | chicama\n",
      "Processing Record 515 | baiyin\n",
      "Processing Record 516 | winnemucca\n",
      "Processing Record 517 | san policarpo\n",
      "Processing Record 518 | iskateley\n",
      "Processing Record 519 | buraydah\n",
      "Processing Record 520 | ayorou\n",
      "Processing Record 521 | genthin\n",
      "Processing Record 522 | halalo\n",
      "Error for halalo\n",
      "Processing Record 523 | taltal\n",
      "Processing Record 524 | leshan\n",
      "Processing Record 525 | biak\n",
      "Processing Record 526 | nanortalik\n",
      "Processing Record 527 | vardo\n",
      "Processing Record 528 | cheuskiny\n",
      "Error for cheuskiny\n",
      "Processing Record 529 | deputatskiy\n",
      "Processing Record 530 | kabinda\n",
      "Processing Record 531 | sungaipenuh\n",
      "Processing Record 532 | ryomgard\n",
      "Processing Record 533 | korla\n",
      "Processing Record 534 | tura\n",
      "Processing Record 535 | namibe\n",
      "Processing Record 536 | padang\n",
      "Processing Record 537 | zykovo\n",
      "Processing Record 538 | lagunas\n",
      "Processing Record 539 | jalu\n",
      "Processing Record 540 | burgeo\n",
      "Processing Record 541 | kamenskoye\n",
      "Error for kamenskoye\n",
      "Processing Record 542 | krasnaya zarya\n",
      "Processing Record 543 | karousades\n",
      "Error for karousades\n",
      "Processing Record 544 | necochea\n",
      "Processing Record 545 | calama\n",
      "Processing Record 546 | svetlyy\n",
      "Processing Record 547 | romodanovo\n",
      "Processing Record 548 | marinette\n",
      "Processing Record 549 | akyab\n",
      "Processing Record 550 | port hardy\n"
     ]
    }
   ],
   "source": [
    "from pprint import pprint\n",
    "wind_speeds=[]\n",
    "temperatures=[]\n",
    "humidities=[]\n",
    "cloudinesses=[]\n",
    "latitudes=[]\n",
    "longitudes=[]\n",
    "city_list=[]\n",
    "count=0\n",
    "for each_city in cities[0:550]:\n",
    "    city_name= each_city\n",
    "    count= count+1\n",
    "    base_url =f'https://api.openweathermap.org/data/2.5/weather?q={city_name}&appid={weather_api_key}'\n",
    "    print(f'Processing Record {count} | {city_name}')\n",
    "    response= requests.get(base_url)\n",
    "    data= response.json()\n",
    "#        pprint(reponse.content)\n",
    "    try:    \n",
    "        wind_speed= data['wind']['speed']\n",
    "        temperature= data['main']['temp']\n",
    "        humidity= data['main']['humidity']\n",
    "        cloudiness= data['clouds']['all']\n",
    "        latitude= data['coord']['lat']\n",
    "        longitude= data['coord']['lon']\n",
    "        \n",
    "    except:\n",
    "        print(f'Error for {city_name}')\n",
    "        next\n",
    "    city_list.append(city_name)\n",
    "    wind_speeds.append(wind_speed)\n",
    "    temperatures.append(temperature)\n",
    "    humidities.append(humidity)\n",
    "    cloudinesses.append(cloudiness)\n",
    "    latitudes.append(latitude)\n",
    "    longitudes.append(longitude)"
   ]
  },
  {
   "cell_type": "markdown",
   "metadata": {},
   "source": [
    "### Convert Raw Data to DataFrame\n",
    "* Export the city data into a .csv.\n",
    "* Display the DataFrame"
   ]
  },
  {
   "cell_type": "code",
   "execution_count": 4,
   "metadata": {},
   "outputs": [],
   "source": [
    "data_dict={\n",
    "    'City':city_list,\n",
    "    'Lat': latitudes,\n",
    "    'Lng':longitudes,\n",
    "    'Max Temp': temperatures,\n",
    "    'Humidity': humidities,\n",
    "    'Cloudiness':cloudinesses,\n",
    "    'Wind Speed': wind_speeds\n",
    "}\n",
    "\n",
    "weather_df= pd.DataFrame(data_dict)"
   ]
  },
  {
   "cell_type": "code",
   "execution_count": 5,
   "metadata": {},
   "outputs": [
    {
     "data": {
      "text/html": [
       "<div>\n",
       "<style scoped>\n",
       "    .dataframe tbody tr th:only-of-type {\n",
       "        vertical-align: middle;\n",
       "    }\n",
       "\n",
       "    .dataframe tbody tr th {\n",
       "        vertical-align: top;\n",
       "    }\n",
       "\n",
       "    .dataframe thead th {\n",
       "        text-align: right;\n",
       "    }\n",
       "</style>\n",
       "<table border=\"1\" class=\"dataframe\">\n",
       "  <thead>\n",
       "    <tr style=\"text-align: right;\">\n",
       "      <th></th>\n",
       "      <th>City</th>\n",
       "      <th>Lat</th>\n",
       "      <th>Lng</th>\n",
       "      <th>Max Temp</th>\n",
       "      <th>Humidity</th>\n",
       "      <th>Cloudiness</th>\n",
       "      <th>Wind Speed</th>\n",
       "    </tr>\n",
       "  </thead>\n",
       "  <tbody>\n",
       "    <tr>\n",
       "      <th>0</th>\n",
       "      <td>alcaniz</td>\n",
       "      <td>41.05</td>\n",
       "      <td>-0.13</td>\n",
       "      <td>288.97</td>\n",
       "      <td>68</td>\n",
       "      <td>99</td>\n",
       "      <td>4.47</td>\n",
       "    </tr>\n",
       "    <tr>\n",
       "      <th>1</th>\n",
       "      <td>gigmoto</td>\n",
       "      <td>13.78</td>\n",
       "      <td>124.39</td>\n",
       "      <td>302.63</td>\n",
       "      <td>72</td>\n",
       "      <td>75</td>\n",
       "      <td>2.88</td>\n",
       "    </tr>\n",
       "    <tr>\n",
       "      <th>2</th>\n",
       "      <td>illoqqortoormiut</td>\n",
       "      <td>13.78</td>\n",
       "      <td>124.39</td>\n",
       "      <td>302.63</td>\n",
       "      <td>72</td>\n",
       "      <td>75</td>\n",
       "      <td>2.88</td>\n",
       "    </tr>\n",
       "    <tr>\n",
       "      <th>3</th>\n",
       "      <td>ordzhonikidze</td>\n",
       "      <td>52.44</td>\n",
       "      <td>61.74</td>\n",
       "      <td>260.79</td>\n",
       "      <td>94</td>\n",
       "      <td>75</td>\n",
       "      <td>4.31</td>\n",
       "    </tr>\n",
       "    <tr>\n",
       "      <th>4</th>\n",
       "      <td>mataura</td>\n",
       "      <td>-46.19</td>\n",
       "      <td>168.86</td>\n",
       "      <td>288.71</td>\n",
       "      <td>80</td>\n",
       "      <td>55</td>\n",
       "      <td>8.49</td>\n",
       "    </tr>\n",
       "    <tr>\n",
       "      <th>...</th>\n",
       "      <td>...</td>\n",
       "      <td>...</td>\n",
       "      <td>...</td>\n",
       "      <td>...</td>\n",
       "      <td>...</td>\n",
       "      <td>...</td>\n",
       "      <td>...</td>\n",
       "    </tr>\n",
       "    <tr>\n",
       "      <th>545</th>\n",
       "      <td>svetlyy</td>\n",
       "      <td>54.67</td>\n",
       "      <td>20.13</td>\n",
       "      <td>281.51</td>\n",
       "      <td>87</td>\n",
       "      <td>83</td>\n",
       "      <td>5.00</td>\n",
       "    </tr>\n",
       "    <tr>\n",
       "      <th>546</th>\n",
       "      <td>romodanovo</td>\n",
       "      <td>54.43</td>\n",
       "      <td>45.33</td>\n",
       "      <td>266.98</td>\n",
       "      <td>84</td>\n",
       "      <td>13</td>\n",
       "      <td>3.20</td>\n",
       "    </tr>\n",
       "    <tr>\n",
       "      <th>547</th>\n",
       "      <td>marinette</td>\n",
       "      <td>45.10</td>\n",
       "      <td>-87.63</td>\n",
       "      <td>274.88</td>\n",
       "      <td>69</td>\n",
       "      <td>90</td>\n",
       "      <td>7.20</td>\n",
       "    </tr>\n",
       "    <tr>\n",
       "      <th>548</th>\n",
       "      <td>akyab</td>\n",
       "      <td>20.15</td>\n",
       "      <td>92.90</td>\n",
       "      <td>300.27</td>\n",
       "      <td>64</td>\n",
       "      <td>3</td>\n",
       "      <td>2.24</td>\n",
       "    </tr>\n",
       "    <tr>\n",
       "      <th>549</th>\n",
       "      <td>port hardy</td>\n",
       "      <td>50.70</td>\n",
       "      <td>-127.42</td>\n",
       "      <td>278.70</td>\n",
       "      <td>100</td>\n",
       "      <td>40</td>\n",
       "      <td>3.10</td>\n",
       "    </tr>\n",
       "  </tbody>\n",
       "</table>\n",
       "<p>550 rows × 7 columns</p>\n",
       "</div>"
      ],
      "text/plain": [
       "                 City    Lat     Lng  Max Temp  Humidity  Cloudiness  \\\n",
       "0             alcaniz  41.05   -0.13    288.97        68          99   \n",
       "1             gigmoto  13.78  124.39    302.63        72          75   \n",
       "2    illoqqortoormiut  13.78  124.39    302.63        72          75   \n",
       "3       ordzhonikidze  52.44   61.74    260.79        94          75   \n",
       "4             mataura -46.19  168.86    288.71        80          55   \n",
       "..                ...    ...     ...       ...       ...         ...   \n",
       "545           svetlyy  54.67   20.13    281.51        87          83   \n",
       "546        romodanovo  54.43   45.33    266.98        84          13   \n",
       "547         marinette  45.10  -87.63    274.88        69          90   \n",
       "548             akyab  20.15   92.90    300.27        64           3   \n",
       "549        port hardy  50.70 -127.42    278.70       100          40   \n",
       "\n",
       "     Wind Speed  \n",
       "0          4.47  \n",
       "1          2.88  \n",
       "2          2.88  \n",
       "3          4.31  \n",
       "4          8.49  \n",
       "..          ...  \n",
       "545        5.00  \n",
       "546        3.20  \n",
       "547        7.20  \n",
       "548        2.24  \n",
       "549        3.10  \n",
       "\n",
       "[550 rows x 7 columns]"
      ]
     },
     "execution_count": 5,
     "metadata": {},
     "output_type": "execute_result"
    }
   ],
   "source": [
    "weather_df"
   ]
  },
  {
   "cell_type": "markdown",
   "metadata": {},
   "source": [
    "## Inspect the data and remove the cities where the humidity > 100%.\n",
    "----\n",
    "Skip this step if there are no cities that have humidity > 100%. "
   ]
  },
  {
   "cell_type": "code",
   "execution_count": 34,
   "metadata": {},
   "outputs": [
    {
     "ename": "SyntaxError",
     "evalue": "invalid syntax (<ipython-input-34-37aa58e9c228>, line 3)",
     "output_type": "error",
     "traceback": [
      "\u001b[1;36m  File \u001b[1;32m\"<ipython-input-34-37aa58e9c228>\"\u001b[1;36m, line \u001b[1;32m3\u001b[0m\n\u001b[1;33m    if weather_df['Humidity']>100;\u001b[0m\n\u001b[1;37m                                 ^\u001b[0m\n\u001b[1;31mSyntaxError\u001b[0m\u001b[1;31m:\u001b[0m invalid syntax\n"
     ]
    }
   ],
   "source": [
    "# humidity_error_filter_df= weather_df['Humidity']>100 \n",
    "\n",
    "# if weather_df['Humidity']>100\n",
    "#     humidity_error_check_df= weather_df[humitiy_error_filter_df]\n",
    "\n",
    "# else:\n",
    "#     print(f'There are no humidity errors')"
   ]
  },
  {
   "cell_type": "code",
   "execution_count": null,
   "metadata": {},
   "outputs": [],
   "source": [
    "#  Get the indices of cities that have humidity over 100%.\n"
   ]
  },
  {
   "cell_type": "code",
   "execution_count": null,
   "metadata": {},
   "outputs": [],
   "source": [
    "# Make a new DataFrame equal to the city data to drop all humidity outliers by index.\n",
    "# Passing \"inplace=False\" will make a copy of the city_data DataFrame, which we call \"clean_city_data\".\n"
   ]
  },
  {
   "cell_type": "code",
   "execution_count": null,
   "metadata": {},
   "outputs": [],
   "source": [
    "\n"
   ]
  },
  {
   "cell_type": "markdown",
   "metadata": {},
   "source": [
    "## Plotting the Data\n",
    "* Use proper labeling of the plots using plot titles (including date of analysis) and axes labels.\n",
    "* Save the plotted figures as .pngs."
   ]
  },
  {
   "cell_type": "markdown",
   "metadata": {},
   "source": [
    "## Latitude vs. Temperature Plot"
   ]
  },
  {
   "cell_type": "code",
   "execution_count": 7,
   "metadata": {
    "scrolled": true
   },
   "outputs": [
    {
     "data": {
      "text/plain": [
       "<matplotlib.axes._subplots.AxesSubplot at 0x2e056099dc0>"
      ]
     },
     "execution_count": 7,
     "metadata": {},
     "output_type": "execute_result"
    },
    {
     "data": {
      "image/png": "[encoded data removed]",
      "text/plain": [
       "<Figure size 432x288 with 1 Axes>"
      ]
     },
     "metadata": {
      "needs_background": "light"
     },
     "output_type": "display_data"
    }
   ],
   "source": [
    "weather_df.plot(kind='scatter', x='Lat', y='Max Temp')"
   ]
  },
  {
   "cell_type": "markdown",
   "metadata": {},
   "source": [
    "## Latitude vs. Humidity Plot"
   ]
  },
  {
   "cell_type": "code",
   "execution_count": 8,
   "metadata": {},
   "outputs": [
    {
     "data": {
      "text/plain": [
       "<matplotlib.axes._subplots.AxesSubplot at 0x2e0568065b0>"
      ]
     },
     "execution_count": 8,
     "metadata": {},
     "output_type": "execute_result"
    },
    {
     "data": {
      "image/png": "[encoded data removed]",
      "text/plain": [
       "<Figure size 432x288 with 1 Axes>"
      ]
     },
     "metadata": {
      "needs_background": "light"
     },
     "output_type": "display_data"
    }
   ],
   "source": [
    "weather_df.plot(kind='scatter', x='Lat', y='Humidity')"
   ]
  },
  {
   "cell_type": "markdown",
   "metadata": {},
   "source": [
    "## Latitude vs. Cloudiness Plot"
   ]
  },
  {
   "cell_type": "code",
   "execution_count": 9,
   "metadata": {},
   "outputs": [
    {
     "data": {
      "text/plain": [
       "<matplotlib.axes._subplots.AxesSubplot at 0x2e05686fca0>"
      ]
     },
     "execution_count": 9,
     "metadata": {},
     "output_type": "execute_result"
    },
    {
     "data": {
      "image/png": "[encoded data removed]",
      "text/plain": [
       "<Figure size 432x288 with 1 Axes>"
      ]
     },
     "metadata": {
      "needs_background": "light"
     },
     "output_type": "display_data"
    }
   ],
   "source": [
    "weather_df.plot(kind='scatter', x='Lat', y='Cloudiness')"
   ]
  },
  {
   "cell_type": "markdown",
   "metadata": {},
   "source": [
    "## Latitude vs. Wind Speed Plot"
   ]
  },
  {
   "cell_type": "code",
   "execution_count": 10,
   "metadata": {},
   "outputs": [
    {
     "data": {
      "text/plain": [
       "<matplotlib.axes._subplots.AxesSubplot at 0x2e0568b1e80>"
      ]
     },
     "execution_count": 10,
     "metadata": {},
     "output_type": "execute_result"
    },
    {
     "data": {
      "image/png": "[encoded data removed]",
      "text/plain": [
       "<Figure size 432x288 with 1 Axes>"
      ]
     },
     "metadata": {
      "needs_background": "light"
     },
     "output_type": "display_data"
    }
   ],
   "source": [
    "weather_df.plot(kind='scatter', x='Lat', y='Wind Speed')"
   ]
  },
  {
   "cell_type": "markdown",
   "metadata": {},
   "source": [
    "## Linear Regression"
   ]
  },
  {
   "cell_type": "code",
   "execution_count": 21,
   "metadata": {},
   "outputs": [
    {
     "name": "stdout",
     "output_type": "stream",
     "text": [
      "The r-squared is: 0.4895006273587039\n"
     ]
    },
    {
     "data": {
      "image/png": "[encoded data removed]",
      "text/plain": [
       "<Figure size 432x288 with 1 Axes>"
      ]
     },
     "metadata": {
      "needs_background": "light"
     },
     "output_type": "display_data"
    }
   ],
   "source": [
    "x_values = weather_df['Lat']\n",
    "y_values = weather_df['Max Temp']\n",
    "(slope, intercept, rvalue, pvalue, stderr) = linregress(x_values, y_values)\n",
    "\n",
    "regress_values = x_values * slope + intercept\n",
    "line_eq = \"y = \" + str(round(slope,2)) + \"x + \" + str(round(intercept,2))\n",
    "\n",
    "plt.scatter(x_values,y_values)\n",
    "plt.plot(x_values,regress_values,\"r-\")\n",
    "plt.annotate(line_eq,(10,285),fontsize=16,color=\"red\")\n",
    "plt.xlabel('Lat')\n",
    "plt.ylabel('Max Temp')\n",
    "print(f\"The r-squared is: {rvalue**2}\")\n",
    "plt.show()"
   ]
  },
  {
   "cell_type": "markdown",
   "metadata": {},
   "source": [
    "####  Northern Hemisphere - Max Temp vs. Latitude Linear Regression"
   ]
  },
  {
   "cell_type": "code",
   "execution_count": 37,
   "metadata": {},
   "outputs": [
    {
     "name": "stdout",
     "output_type": "stream",
     "text": [
      "The r-squared is: 0.7336861776437834\n"
     ]
    },
    {
     "data": {
      "image/png": "[encoded data removed]",
      "text/plain": [
       "<Figure size 432x288 with 1 Axes>"
      ]
     },
     "metadata": {
      "needs_background": "light"
     },
     "output_type": "display_data"
    }
   ],
   "source": [
    "n_hemisphere_filter_df= weather_df['Lat']>0\n",
    "n_hemispher_df= weather_df[n_hemisphere_filter_df]\n",
    "n_hemispher_df\n",
    "\n",
    "x_values = n_hemispher_df['Lat']\n",
    "y_values = n_hemispher_df['Max Temp']\n",
    "(slope, intercept, rvalue, pvalue, stderr) = linregress(x_values, y_values)\n",
    "\n",
    "regress_values = x_values * slope + intercept\n",
    "line_eq = \"y = \" + str(round(slope,2)) + \"x + \" + str(round(intercept,2))\n",
    "\n",
    "plt.scatter(x_values,y_values)\n",
    "plt.plot(x_values,regress_values,\"r-\")\n",
    "plt.annotate(line_eq,(40,280),fontsize=16,color=\"red\")\n",
    "plt.xlabel('Lat')\n",
    "plt.ylabel('Max Temp')\n",
    "print(f\"The r-squared is: {rvalue**2}\")\n",
    "plt.show()"
   ]
  },
  {
   "cell_type": "markdown",
   "metadata": {},
   "source": [
    "####  Southern Hemisphere - Max Temp vs. Latitude Linear Regression"
   ]
  },
  {
   "cell_type": "code",
   "execution_count": 38,
   "metadata": {},
   "outputs": [
    {
     "name": "stdout",
     "output_type": "stream",
     "text": [
      "The r-squared is: 0.3041915003155792\n"
     ]
    },
    {
     "data": {
      "image/png": "[encoded data removed]",
      "text/plain": [
       "<Figure size 432x288 with 1 Axes>"
      ]
     },
     "metadata": {
      "needs_background": "light"
     },
     "output_type": "display_data"
    }
   ],
   "source": [
    "s_hemisphere_filter_df= weather_df['Lat']<0\n",
    "s_hemispher_df= weather_df[s_hemisphere_filter_df]\n",
    "s_hemispher_df\n",
    "\n",
    "x_values = s_hemispher_df['Lat']\n",
    "y_values = s_hemispher_df['Max Temp']\n",
    "(slope, intercept, rvalue, pvalue, stderr) = linregress(x_values, y_values)\n",
    "\n",
    "regress_values = x_values * slope + intercept\n",
    "line_eq = \"y = \" + str(round(slope,2)) + \"x + \" + str(round(intercept,2))\n",
    "\n",
    "plt.scatter(x_values,y_values)\n",
    "plt.plot(x_values,regress_values,\"r-\")\n",
    "plt.annotate(line_eq,(40,280),fontsize=16,color=\"red\")\n",
    "plt.xlabel('Lat')\n",
    "plt.ylabel('Max Temp')\n",
    "print(f\"The r-squared is: {rvalue**2}\")\n",
    "plt.show()"
   ]
  },
  {
   "cell_type": "markdown",
   "metadata": {},
   "source": [
    "####  Northern Hemisphere - Humidity (%) vs. Latitude Linear Regression"
   ]
  },
  {
   "cell_type": "code",
   "execution_count": 39,
   "metadata": {},
   "outputs": [
    {
     "name": "stdout",
     "output_type": "stream",
     "text": [
      "The r-squared is: 0.0859434689236467\n"
     ]
    },
    {
     "data": {
      "image/png": "[encoded data removed]",
      "text/plain": [
       "<Figure size 432x288 with 1 Axes>"
      ]
     },
     "metadata": {
      "needs_background": "light"
     },
     "output_type": "display_data"
    }
   ],
   "source": [
    "n_hemisphere_filter_df= weather_df['Lat']>0\n",
    "n_hemispher_df= weather_df[n_hemisphere_filter_df]\n",
    "n_hemispher_df\n",
    "\n",
    "x_values = n_hemispher_df['Lat']\n",
    "y_values = n_hemispher_df['Humidity']\n",
    "(slope, intercept, rvalue, pvalue, stderr) = linregress(x_values, y_values)\n",
    "\n",
    "regress_values = x_values * slope + intercept\n",
    "line_eq = \"y = \" + str(round(slope,2)) + \"x + \" + str(round(intercept,2))\n",
    "\n",
    "plt.scatter(x_values,y_values)\n",
    "plt.plot(x_values,regress_values,\"r-\")\n",
    "plt.annotate(line_eq,(10,285),fontsize=16,color=\"red\")\n",
    "plt.xlabel('Lat')\n",
    "plt.ylabel('Humidity')\n",
    "print(f\"The r-squared is: {rvalue**2}\")\n",
    "plt.show()"
   ]
  },
  {
   "cell_type": "markdown",
   "metadata": {},
   "source": [
    "####  Southern Hemisphere - Humidity (%) vs. Latitude Linear Regression"
   ]
  },
  {
   "cell_type": "code",
   "execution_count": null,
   "metadata": {},
   "outputs": [],
   "source": [
    "s_hemisphere_filter_df= weather_df['Lat']<0\n",
    "s_hemispher_df= weather_df[s_hemisphere_filter_df]\n",
    "s_hemispher_df\n",
    "\n",
    "x_values = s_hemispher_df['Lat']\n",
    "y_values = s_hemispher_df['Humidity']\n",
    "(slope, intercept, rvalue, pvalue, stderr) = linregress(x_values, y_values)\n",
    "\n",
    "regress_values = x_values * slope + intercept\n",
    "line_eq = \"y = \" + str(round(slope,2)) + \"x + \" + str(round(intercept,2))\n",
    "\n",
    "plt.scatter(x_values,y_values)\n",
    "plt.plot(x_values,regress_values,\"r-\")\n",
    "plt.annotate(line_eq,(10,285),fontsize=16,color=\"red\")\n",
    "plt.xlabel('Lat')\n",
    "plt.ylabel('Humidity')\n",
    "print(f\"The r-squared is: {rvalue**2}\")\n",
    "plt.show()"
   ]
  },
  {
   "cell_type": "markdown",
   "metadata": {},
   "source": [
    "####  Northern Hemisphere - Cloudiness (%) vs. Latitude Linear Regression"
   ]
  },
  {
   "cell_type": "code",
   "execution_count": null,
   "metadata": {},
   "outputs": [],
   "source": [
    "n_hemisphere_filter_df= weather_df['Lat']>0\n",
    "n_hemispher_df= weather_df[n_hemisphere_filter_df]\n",
    "n_hemispher_df\n",
    "\n",
    "x_values = n_hemispher_df['Lat']\n",
    "y_values = n_hemispher_df['Cloudiness']\n",
    "(slope, intercept, rvalue, pvalue, stderr) = linregress(x_values, y_values)\n",
    "\n",
    "regress_values = x_values * slope + intercept\n",
    "line_eq = \"y = \" + str(round(slope,2)) + \"x + \" + str(round(intercept,2))\n",
    "\n",
    "plt.scatter(x_values,y_values)\n",
    "plt.plot(x_values,regress_values,\"r-\")\n",
    "plt.annotate(line_eq,(10,285),fontsize=16,color=\"red\")\n",
    "plt.xlabel('Lat')\n",
    "plt.ylabel('Cloudiness')\n",
    "print(f\"The r-squared is: {rvalue**2}\")\n",
    "plt.show()"
   ]
  },
  {
   "cell_type": "markdown",
   "metadata": {},
   "source": [
    "####  Southern Hemisphere - Cloudiness (%) vs. Latitude Linear Regression"
   ]
  },
  {
   "cell_type": "code",
   "execution_count": null,
   "metadata": {},
   "outputs": [],
   "source": [
    "s_hemisphere_filter_df= weather_df['Lat']0\n",
    "s_hemispher_df= weather_df[s_hemisphere_filter_df]\n",
    "s_hemispher_df\n",
    "\n",
    "x_values = s_hemispher_df['Lat']\n",
    "y_values = s_hemispher_df['Cloudiness']\n",
    "(slope, intercept, rvalue, pvalue, stderr) = linregress(x_values, y_values)\n",
    "\n",
    "regress_values = x_values * slope + intercept\n",
    "line_eq = \"y = \" + str(round(slope,2)) + \"x + \" + str(round(intercept,2))\n",
    "\n",
    "plt.scatter(x_values,y_values)\n",
    "plt.plot(x_values,regress_values,\"r-\")\n",
    "plt.annotate(line_eq,(10,285),fontsize=16,color=\"red\")\n",
    "plt.xlabel('Lat')\n",
    "plt.ylabel('Cloudiness')\n",
    "print(f\"The r-squared is: {rvalue**2}\")\n",
    "plt.show()"
   ]
  },
  {
   "cell_type": "markdown",
   "metadata": {},
   "source": [
    "####  Northern Hemisphere - Wind Speed (mph) vs. Latitude Linear Regression"
   ]
  },
  {
   "cell_type": "code",
   "execution_count": null,
   "metadata": {},
   "outputs": [],
   "source": [
    "n_hemisphere_filter_df= weather_df['Lat']>0\n",
    "n_hemispher_df= weather_df[n_hemisphere_filter_df]\n",
    "n_hemispher_df\n",
    "\n",
    "x_values = n_hemispher_df['Lat']\n",
    "y_values = n_hemispher_df['Wind Speed']\n",
    "(slope, intercept, rvalue, pvalue, stderr) = linregress(x_values, y_values)\n",
    "\n",
    "regress_values = x_values * slope + intercept\n",
    "line_eq = \"y = \" + str(round(slope,2)) + \"x + \" + str(round(intercept,2))\n",
    "\n",
    "plt.scatter(x_values,y_values)\n",
    "plt.plot(x_values,regress_values,\"r-\")\n",
    "plt.annotate(line_eq,(10,285),fontsize=16,color=\"red\")\n",
    "plt.xlabel('Lat')\n",
    "plt.ylabel('Wind Speed')\n",
    "print(f\"The r-squared is: {rvalue**2}\")\n",
    "plt.show()"
   ]
  },
  {
   "cell_type": "markdown",
   "metadata": {},
   "source": [
    "####  Southern Hemisphere - Wind Speed (mph) vs. Latitude Linear Regression"
   ]
  },
  {
   "cell_type": "code",
   "execution_count": null,
   "metadata": {},
   "outputs": [],
   "source": [
    "s_hemisphere_filter_df= weather_df['Lat']<0\n",
    "s_hemispher_df= weather_df[s_hemisphere_filter_df]\n",
    "s_hemispher_df\n",
    "\n",
    "x_values = s_hemispher_df['Lat']\n",
    "y_values = s_hemispher_df['Wind Speed']\n",
    "(slope, intercept, rvalue, pvalue, stderr) = linregress(x_values, y_values)\n",
    "\n",
    "regress_values = x_values * slope + intercept\n",
    "line_eq = \"y = \" + str(round(slope,2)) + \"x + \" + str(round(intercept,2))\n",
    "\n",
    "plt.scatter(x_values,y_values)\n",
    "plt.plot(x_values,regress_values,\"r-\")\n",
    "plt.annotate(line_eq,(10,285),fontsize=16,color=\"red\")\n",
    "plt.xlabel('Lat')\n",
    "plt.ylabel('Wind Speed')\n",
    "print(f\"The r-squared is: {rvalue**2}\")\n",
    "plt.show()"
   ]
  },
  {
   "cell_type": "code",
   "execution_count": null,
   "metadata": {},
   "outputs": [],
   "source": []
  }
 ],
 "metadata": {
  "anaconda-cloud": {},
  "kernel_info": {
   "name": "python3"
  },
  "kernelspec": {
   "display_name": "Python [conda env:dataviz2] *",
   "language": "python",
   "name": "conda-env-dataviz2-py"
  },
  "language_info": {
   "codemirror_mode": {
    "name": "ipython",
    "version": 3
   },
   "file_extension": ".py",
   "mimetype": "text/x-python",
   "name": "python",
   "nbconvert_exporter": "python",
   "pygments_lexer": "ipython3",
   "version": "3.8.3"
  },
  "latex_envs": {
   "LaTeX_envs_menu_present": true,
   "autoclose": false,
   "autocomplete": true,
   "bibliofile": "biblio.bib",
   "cite_by": "apalike",
   "current_citInitial": 1,
   "eqLabelWithNumbers": true,
   "eqNumInitial": 1,
   "hotkeys": {
    "equation": "Ctrl-E",
    "itemize": "Ctrl-I"
   },
   "labels_anchors": false,
   "latex_user_defs": false,
   "report_style_numbering": false,
   "user_envs_cfg": false
  },
  "nteract": {
   "version": "0.12.3"
  }
 },
 "nbformat": 4,
 "nbformat_minor": 2
}
